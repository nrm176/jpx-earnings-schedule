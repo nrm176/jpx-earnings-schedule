{
 "cells": [
  {
   "cell_type": "markdown",
   "metadata": {},
   "source": [
    "## Fetch earnings date from JPX website"
   ]
  },
  {
   "cell_type": "code",
   "execution_count": 2,
   "metadata": {},
   "outputs": [],
   "source": [
    "import pandas as pd\n",
    "from bs4 import BeautifulSoup\n",
    "import requests\n",
    "import re\n",
    "from sqlalchemy import create_engine"
   ]
  },
  {
   "cell_type": "code",
   "execution_count": 3,
   "metadata": {},
   "outputs": [],
   "source": [
    "JPX_URL = 'https://www.jpx.co.jp/listing/event-schedules/financial-announcement/index.html'\n",
    "DATABASE_URL='postgresql://@localhost:5432/kabu_db_local'"
   ]
  },
  {
   "cell_type": "code",
   "execution_count": 4,
   "metadata": {},
   "outputs": [],
   "source": [
    "engine = create_engine(DATABASE_URL)"
   ]
  },
  {
   "cell_type": "code",
   "execution_count": 5,
   "metadata": {},
   "outputs": [],
   "source": [
    "response = requests.get(JPX_URL)\n",
    "soup = BeautifulSoup(response.text, 'lxml')"
   ]
  },
  {
   "cell_type": "code",
   "execution_count": 6,
   "metadata": {},
   "outputs": [],
   "source": [
    "xlses = []\n",
    "for a in soup.find_all('a', href=True):\n",
    "    if a['href'].endswith('.xls'):\n",
    "        xlses.append(a['href'])"
   ]
  },
  {
   "cell_type": "code",
   "execution_count": 7,
   "metadata": {},
   "outputs": [],
   "source": [
    "COLUMN_MAPPING = {'発表予定日':'date', 'コード':'code', '会社名':'name', '決算期末':'term', '業種名':'segment', '種別':'pattern', '市場区分':'market'}"
   ]
  },
  {
   "cell_type": "code",
   "execution_count": 8,
   "metadata": {},
   "outputs": [],
   "source": [
    "PATTERN_MAPPING = {\n",
    "    '第３四半期':'3Q', '第２四半期':'2Q', '第１四半期':'1Q', '本決算':'4Q', '-':''\n",
    "}"
   ]
  },
  {
   "cell_type": "code",
   "execution_count": 9,
   "metadata": {},
   "outputs": [],
   "source": [
    "def download_xls(file_name, url):\n",
    "    res = requests.get(url)\n",
    "    save_to = '{}{}'.format('./', file_name)\n",
    "    if res.status_code == 200:\n",
    "        open(save_to, 'wb').write(res.content)\n",
    "        print('Done')\n",
    "        return save_to"
   ]
  },
  {
   "cell_type": "code",
   "execution_count": 10,
   "metadata": {},
   "outputs": [],
   "source": [
    "def clean_dataframe(df):\n",
    "    df = pd.read_excel(file_path, skiprows=2)\n",
    "    df = df.dropna()\n",
    "    df = df.rename(columns=COLUMN_MAPPING)\n",
    "    df['pattern'] = df['pattern'].map(PATTERN_MAPPING)\n",
    "    df['code']=df['code'].astype(int)\n",
    "    df['code']=df['code'].astype(str)\n",
    "    return df\n",
    "    "
   ]
  },
  {
   "cell_type": "code",
   "execution_count": 11,
   "metadata": {},
   "outputs": [
    {
     "name": "stdout",
     "output_type": "stream",
     "text": [
      "Done\n",
      "Done\n"
     ]
    }
   ],
   "source": [
    "file_paths = []\n",
    "for idx, xls in enumerate(xlses):\n",
    "    file_name = xls.split('/')[-1]\n",
    "    path = download_xls(file_name, '{}{}'.format('https://www.jpx.co.jp', xls))\n",
    "    file_paths.append(path)"
   ]
  },
  {
   "cell_type": "code",
   "execution_count": 12,
   "metadata": {},
   "outputs": [],
   "source": [
    "dfs = []\n",
    "for file_path in file_paths:\n",
    "    idx_key = file_path.split('/')[-1].replace('.xls', '')\n",
    "    df = pd.read_excel(file_path, skiprows=2)\n",
    "    df = clean_dataframe(df)\n",
    "    df['id']=idx_key+'-'+df['code']\n",
    "    dfs.append(df)"
   ]
  },
  {
   "cell_type": "code",
   "execution_count": 13,
   "metadata": {},
   "outputs": [],
   "source": [
    "combined_df = pd.concat(dfs)"
   ]
  },
  {
   "cell_type": "code",
   "execution_count": 14,
   "metadata": {},
   "outputs": [],
   "source": [
    "combined_df['date'] = combined_df['date'].replace('未定', '')"
   ]
  },
  {
   "cell_type": "code",
   "execution_count": 15,
   "metadata": {},
   "outputs": [],
   "source": [
    "combined_df = combined_df.set_index('id')"
   ]
  },
  {
   "cell_type": "code",
   "execution_count": 16,
   "metadata": {},
   "outputs": [],
   "source": [
    "combined_df['date'] = pd.to_datetime(combined_df['date'])"
   ]
  },
  {
   "cell_type": "code",
   "execution_count": 17,
   "metadata": {},
   "outputs": [],
   "source": [
    "combined_df['date'] = combined_df.date.astype(object).where(combined_df.date.notnull(), None)"
   ]
  },
  {
   "cell_type": "code",
   "execution_count": 18,
   "metadata": {},
   "outputs": [
    {
     "data": {
      "text/html": [
       "<div>\n",
       "<style scoped>\n",
       "    .dataframe tbody tr th:only-of-type {\n",
       "        vertical-align: middle;\n",
       "    }\n",
       "\n",
       "    .dataframe tbody tr th {\n",
       "        vertical-align: top;\n",
       "    }\n",
       "\n",
       "    .dataframe thead th {\n",
       "        text-align: right;\n",
       "    }\n",
       "</style>\n",
       "<table border=\"1\" class=\"dataframe\">\n",
       "  <thead>\n",
       "    <tr style=\"text-align: right;\">\n",
       "      <th></th>\n",
       "      <th>date</th>\n",
       "      <th>code</th>\n",
       "      <th>name</th>\n",
       "      <th>term</th>\n",
       "      <th>segment</th>\n",
       "      <th>pattern</th>\n",
       "      <th>market</th>\n",
       "    </tr>\n",
       "    <tr>\n",
       "      <th>id</th>\n",
       "      <th></th>\n",
       "      <th></th>\n",
       "      <th></th>\n",
       "      <th></th>\n",
       "      <th></th>\n",
       "      <th></th>\n",
       "      <th></th>\n",
       "    </tr>\n",
       "  </thead>\n",
       "  <tbody>\n",
       "    <tr>\n",
       "      <th>kessan05_0701-2164</th>\n",
       "      <td>2020-07-01 00:00:00</td>\n",
       "      <td>2164</td>\n",
       "      <td>地域新聞社</td>\n",
       "      <td>8月31日</td>\n",
       "      <td>サービス業</td>\n",
       "      <td>3Q</td>\n",
       "      <td>ジャスダック</td>\n",
       "    </tr>\n",
       "    <tr>\n",
       "      <th>kessan05_0701-2809</th>\n",
       "      <td>2020-07-02 00:00:00</td>\n",
       "      <td>2809</td>\n",
       "      <td>キユーピー</td>\n",
       "      <td>11月30日</td>\n",
       "      <td>食料品</td>\n",
       "      <td>2Q</td>\n",
       "      <td>一部</td>\n",
       "    </tr>\n",
       "    <tr>\n",
       "      <th>kessan05_0701-2830</th>\n",
       "      <td>2020-07-02 00:00:00</td>\n",
       "      <td>2830</td>\n",
       "      <td>アヲハタ</td>\n",
       "      <td>11月30日</td>\n",
       "      <td>食料品</td>\n",
       "      <td>2Q</td>\n",
       "      <td>二部</td>\n",
       "    </tr>\n",
       "    <tr>\n",
       "      <th>kessan05_0701-2918</th>\n",
       "      <td>2020-07-02 00:00:00</td>\n",
       "      <td>2918</td>\n",
       "      <td>わらべや日洋ホールディングス</td>\n",
       "      <td>2月末日</td>\n",
       "      <td>食料品</td>\n",
       "      <td>1Q</td>\n",
       "      <td>一部</td>\n",
       "    </tr>\n",
       "    <tr>\n",
       "      <th>kessan05_0701-3549</th>\n",
       "      <td>2020-07-02 00:00:00</td>\n",
       "      <td>3549</td>\n",
       "      <td>クスリのアオキホールディングス</td>\n",
       "      <td>5月20日</td>\n",
       "      <td>小売業</td>\n",
       "      <td>4Q</td>\n",
       "      <td>一部</td>\n",
       "    </tr>\n",
       "    <tr>\n",
       "      <th>...</th>\n",
       "      <td>...</td>\n",
       "      <td>...</td>\n",
       "      <td>...</td>\n",
       "      <td>...</td>\n",
       "      <td>...</td>\n",
       "      <td>...</td>\n",
       "      <td>...</td>\n",
       "    </tr>\n",
       "    <tr>\n",
       "      <th>kessan06_0701-9810</th>\n",
       "      <td>None</td>\n",
       "      <td>9810</td>\n",
       "      <td>日鉄物産</td>\n",
       "      <td>3月31日</td>\n",
       "      <td>卸売業</td>\n",
       "      <td>1Q</td>\n",
       "      <td>一部</td>\n",
       "    </tr>\n",
       "    <tr>\n",
       "      <th>kessan06_0701-9900</th>\n",
       "      <td>None</td>\n",
       "      <td>9900</td>\n",
       "      <td>サガミホールディングス</td>\n",
       "      <td>3月31日</td>\n",
       "      <td>小売業</td>\n",
       "      <td>1Q</td>\n",
       "      <td>一部</td>\n",
       "    </tr>\n",
       "    <tr>\n",
       "      <th>kessan06_0701-9969</th>\n",
       "      <td>None</td>\n",
       "      <td>9969</td>\n",
       "      <td>ショクブン</td>\n",
       "      <td>3月31日</td>\n",
       "      <td>小売業</td>\n",
       "      <td>1Q</td>\n",
       "      <td>二部</td>\n",
       "    </tr>\n",
       "    <tr>\n",
       "      <th>kessan06_0701-9980</th>\n",
       "      <td>None</td>\n",
       "      <td>9980</td>\n",
       "      <td>ＭＲＫホールディングス</td>\n",
       "      <td>3月31日</td>\n",
       "      <td>小売業</td>\n",
       "      <td>1Q</td>\n",
       "      <td>二部</td>\n",
       "    </tr>\n",
       "    <tr>\n",
       "      <th>kessan06_0701-9994</th>\n",
       "      <td>None</td>\n",
       "      <td>9994</td>\n",
       "      <td>やまや</td>\n",
       "      <td>3月31日</td>\n",
       "      <td>小売業</td>\n",
       "      <td>1Q</td>\n",
       "      <td>一部</td>\n",
       "    </tr>\n",
       "  </tbody>\n",
       "</table>\n",
       "<p>3042 rows × 7 columns</p>\n",
       "</div>"
      ],
      "text/plain": [
       "                                   date  code             name    term  \\\n",
       "id                                                                       \n",
       "kessan05_0701-2164  2020-07-01 00:00:00  2164            地域新聞社   8月31日   \n",
       "kessan05_0701-2809  2020-07-02 00:00:00  2809            キユーピー  11月30日   \n",
       "kessan05_0701-2830  2020-07-02 00:00:00  2830             アヲハタ  11月30日   \n",
       "kessan05_0701-2918  2020-07-02 00:00:00  2918   わらべや日洋ホールディングス    2月末日   \n",
       "kessan05_0701-3549  2020-07-02 00:00:00  3549  クスリのアオキホールディングス   5月20日   \n",
       "...                                 ...   ...              ...     ...   \n",
       "kessan06_0701-9810                 None  9810             日鉄物産   3月31日   \n",
       "kessan06_0701-9900                 None  9900      サガミホールディングス   3月31日   \n",
       "kessan06_0701-9969                 None  9969            ショクブン   3月31日   \n",
       "kessan06_0701-9980                 None  9980      ＭＲＫホールディングス   3月31日   \n",
       "kessan06_0701-9994                 None  9994              やまや   3月31日   \n",
       "\n",
       "                   segment pattern  market  \n",
       "id                                          \n",
       "kessan05_0701-2164   サービス業      3Q  ジャスダック  \n",
       "kessan05_0701-2809     食料品      2Q      一部  \n",
       "kessan05_0701-2830     食料品      2Q      二部  \n",
       "kessan05_0701-2918     食料品      1Q      一部  \n",
       "kessan05_0701-3549     小売業      4Q      一部  \n",
       "...                    ...     ...     ...  \n",
       "kessan06_0701-9810     卸売業      1Q      一部  \n",
       "kessan06_0701-9900     小売業      1Q      一部  \n",
       "kessan06_0701-9969     小売業      1Q      二部  \n",
       "kessan06_0701-9980     小売業      1Q      二部  \n",
       "kessan06_0701-9994     小売業      1Q      一部  \n",
       "\n",
       "[3042 rows x 7 columns]"
      ]
     },
     "execution_count": 18,
     "metadata": {},
     "output_type": "execute_result"
    }
   ],
   "source": [
    "combined_df"
   ]
  },
  {
   "cell_type": "code",
   "execution_count": 19,
   "metadata": {},
   "outputs": [],
   "source": [
    "combined_df.to_sql('earnings_schedule', engine, if_exists='replace')"
   ]
  },
  {
   "cell_type": "code",
   "execution_count": null,
   "metadata": {},
   "outputs": [],
   "source": []
  }
 ],
 "metadata": {
  "kernelspec": {
   "display_name": "Python 3",
   "language": "python",
   "name": "python3"
  },
  "language_info": {
   "codemirror_mode": {
    "name": "ipython",
    "version": 3
   },
   "file_extension": ".py",
   "mimetype": "text/x-python",
   "name": "python",
   "nbconvert_exporter": "python",
   "pygments_lexer": "ipython3",
   "version": "3.7.4"
  }
 },
 "nbformat": 4,
 "nbformat_minor": 2
}